{
 "cells": [
  {
   "cell_type": "code",
   "execution_count": 2,
   "metadata": {},
   "outputs": [],
   "source": [
    "import re\n",
    "import random\n",
    "import numpy as np\n",
    "import os.path\n",
    "import scipy.misc\n",
    "import shutil\n",
    "import zipfile\n",
    "import time\n",
    "import tensorflow as tf\n",
    "from glob import glob\n",
    "from urllib.request import urlretrieve"
   ]
  },
  {
   "cell_type": "code",
   "execution_count": 5,
   "metadata": {},
   "outputs": [],
   "source": [
    "def gen_batch_function(data_folder, image_shape):\n",
    "    \"\"\"\n",
    "    Generate function to create batches of training data\n",
    "    :param data_folder: Path to folder that contains all the datasets\n",
    "    :param image_shape: Tuple - Shape of image\n",
    "    :return:\n",
    "    \"\"\"\n",
    "    def get_batches_fn(batch_size):\n",
    "        \"\"\"\n",
    "        Create batches of training data\n",
    "        :param batch_size: Batch Size\n",
    "        :return: Batches of training data\n",
    "        \"\"\"\n",
    "        image_paths = glob(os.path.join(data_folder,'*.*'))\n",
    "\n",
    "        random.shuffle(image_paths)\n",
    "        while True:\n",
    "            for batch_i in range(0, len(image_paths), batch_size):\n",
    "                images = []\n",
    "                labels = []\n",
    "                for image_file in image_paths[batch_i:batch_i+batch_size]:\n",
    "\n",
    "                    image = scipy.misc.imresize(scipy.misc.imread(image_file), image_shape)\n",
    "                    label = image_file.split('/')[-2]\n",
    "                    images.append(image)\n",
    "                    labels.append(label)\n",
    "\n",
    "                yield np.array(images), np.array(labels)\n",
    "    return get_batches_fn"
   ]
  },
  {
   "cell_type": "code",
   "execution_count": null,
   "metadata": {},
   "outputs": [],
   "source": []
  }
 ],
 "metadata": {
  "kernelspec": {
   "display_name": "Python 3",
   "language": "python",
   "name": "python3"
  },
  "language_info": {
   "codemirror_mode": {
    "name": "ipython",
    "version": 3
   },
   "file_extension": ".py",
   "mimetype": "text/x-python",
   "name": "python",
   "nbconvert_exporter": "python",
   "pygments_lexer": "ipython3",
   "version": "3.5.5"
  }
 },
 "nbformat": 4,
 "nbformat_minor": 2
}
